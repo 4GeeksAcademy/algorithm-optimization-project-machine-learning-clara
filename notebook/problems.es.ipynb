{
 "cells": [
  {
   "attachments": {},
   "cell_type": "markdown",
   "id": "27b09e13",
   "metadata": {},
   "source": [
    "# Problemas de optimización de algoritmos"
   ]
  },
  {
   "attachments": {},
   "cell_type": "markdown",
   "id": "ed05e9bf",
   "metadata": {},
   "source": [
    "## Ejercicio 1\n",
    "### Optimización de código para procesamiento de texto\n",
    "\n",
    "Se te ha entregado un código de procesamiento de texto que realiza las siguientes operaciones:\n",
    "\n",
    "1. Convierte todo el texto a minúsculas.\n",
    "2. Elimina los signos de puntuación.\n",
    "3. Cuenta la frecuencia de cada palabra.\n",
    "4. Muestra las 5 palabras mas comunes.\n",
    "\n",
    "El código funciona, pero es ineficiente y puede optimizarse. Tu tarea es identificar las áreas que pueden ser mejoradas y reescribir esas partes para hacer el código mas eficiente y legible.\n"
   ]
  },
  {
   "cell_type": "code",
   "execution_count": 1,
   "id": "8467465b",
   "metadata": {},
   "outputs": [
    {
     "name": "stdout",
     "output_type": "stream",
     "text": [
      "'the': 5 times\n",
      "'of': 3 times\n",
      "'in': 2 times\n",
      "'a': 2 times\n",
      "'she': 2 times\n"
     ]
    }
   ],
   "source": [
    "import string\n",
    "\n",
    "def process_text(text):\n",
    "    # Texto a minuscula\n",
    "    text = text.lower()\n",
    "\n",
    "    # Eliminación de puntuaciones\n",
    "    for p in string.punctuation:\n",
    "        text = text.replace(p, \"\")\n",
    "\n",
    "    # Split text into words\n",
    "    words = text.split()\n",
    "\n",
    "    # Conteo de frecuencias\n",
    "    frequencies = {}\n",
    "    for w in words:\n",
    "        if w in frequencies:\n",
    "            frequencies[w] += 1\n",
    "        else:\n",
    "            frequencies[w] = 1\n",
    "\n",
    "    sorted_frequencies = sorted(frequencies.items(), key = lambda x: x[1], reverse = True)\n",
    "\n",
    "    # Obtener las 5 palabras más comunes\n",
    "    top_5 = sorted_frequencies[:5]\n",
    "    \n",
    "    for w, frequency in top_5:\n",
    "        print(f\"'{w}': {frequency} times\")\n",
    "\n",
    "text = \"\"\"\n",
    "    In the heart of the city, Emily discovered a quaint little café, hidden away from the bustling streets. \n",
    "    The aroma of freshly baked pastries wafted through the air, drawing in passersby. As she sipped on her latte, \n",
    "    she noticed an old bookshelf filled with classics, creating a cozy atmosphere that made her lose track of time.\n",
    "\"\"\"\n",
    "process_text(text)"
   ]
  },
  {
   "cell_type": "markdown",
   "id": "29040779",
   "metadata": {},
   "source": [
    "Puntos a optimizar:\n",
    "\n",
    "1. **Eliminar los signos de puntuación**: Usar `replace`  en un ciclo puede ser ineficiente, especialmente con textos largos. Busca una formas eficiente de eliminar los signos de puntuación.\n",
    "2. **Contador de frecuencia**: El código verifica la existencia de cada palabra en el diccionario y luego actualiza su cuenta. Esto puede hacerse mas eficientemente con ciertas estructuras de datos en Python.\n",
    "3. **Ordenar y seleccionar:** Considera si hay una forma mas directa o efectiva de obtener las 5 palabras mas frecuentes sin ordenar todas las palabras.\n",
    "4. **Modularidad**: Divide el código en funciones mas pequeñas para que cada una puede realizar una tarea específica. Esto no solo optimizará el desempeño, sino también hará el código mas legible y mantenible."
   ]
  },
  {
   "cell_type": "code",
   "execution_count": 4,
   "id": "57cd6641",
   "metadata": {},
   "outputs": [
    {
     "name": "stdout",
     "output_type": "stream",
     "text": [
      " La palabra 'the' aparece 5 veces\n",
      " La palabra 'of' aparece 3 veces\n",
      " La palabra 'in' aparece 2 veces\n",
      " La palabra 'a' aparece 2 veces\n",
      " La palabra 'she' aparece 2 veces\n"
     ]
    }
   ],
   "source": [
    "# Se importan las librerías necesarias:\n",
    "import string # Se necesita utilizar string.punctuation (conjunto de signos de puntuación posibles) para identificar si hay alguno en el tesxto\n",
    "from collections import Counter # Se utiliza Counter para saber cuántas veces aparece cada elemento en la lista de palabras creada\n",
    "\n",
    "# # # FUNCTION - TO LOWER CASE # # #\n",
    "# Se utliza el método .lower() para pasar todas las letras del texto a minúscula:\n",
    "def to_lower (text): return text.lower();\n",
    "\n",
    "\n",
    "# # # FUNCTION - DELETE PUNCTUATION # # #\n",
    "# Se comprueba cada uno de los caracteres dentro del texto dado como argumento\n",
    "# En caso de no ser un signo de puntuación (no ser igual a ninguno de los elementos de string.punctuation), se unen todos en una cadena sin signos de puntuación\n",
    "# Finalmente, la cadena se separa en una lista de palabras, utilizando como elemento separador el espacio \" \"\n",
    "def del_punctuation (text): \n",
    "    words = (''.join(caracter for caracter in text if caracter not in string.punctuation)).split();\n",
    "    return words;\n",
    "\n",
    "\n",
    "# # # FUNCTION - COUNTER # # #\n",
    "# Se toma la lista de palabras generada con la función del_punctuation() y se aplica la función Counter a partir del cual se genera un diccionario con la palabra y el número de veces que aparece\n",
    "# A este diccionario, se le aplica el método .most_common() indicando que solo se quieren mostrar tantas palabras como el número indicado como argumento (top_words)\n",
    "# Finalmente, se itera para cada elemento del diccionario generado con Counter mostrando qué palabra es (primera key) como su frecuencia en el texto (segunda key):\n",
    "def counter (words, top_words):\n",
    "    counter = Counter(words).most_common(top_words);\n",
    "    for element, frequency in counter: print (f\" La palabra '{element}' aparece {frequency} veces\");\n",
    "    return\n",
    "\n",
    "# # # FUNCTION - PROCESADO TEXTO GENERAL # # #\n",
    "# Función que llama a todas las funciones anteriores para ejecutar todas las funcionalidades deseadas:\n",
    "def process_text(text): return counter(del_punctuation (to_lower(text)), 5);\n",
    "\n",
    "# Declaración del texto:\n",
    "text = \"\"\"\n",
    "    In the heart of the city, Emily discovered a quaint little café, hidden away from the bustling streets. \n",
    "    The aroma of freshly baked pastries wafted through the air, drawing in passersby. As she sipped on her latte, \n",
    "    she noticed an old bookshelf filled with classics, creating a cozy atmosphere that made her lose track of time.\n",
    "\"\"\"\n",
    "# Llamada a la función general:\n",
    "process_text (text)\n"
   ]
  },
  {
   "attachments": {},
   "cell_type": "markdown",
   "id": "011996bc",
   "metadata": {},
   "source": [
    "## Ejercicio 2\n",
    "### Optimización de código para procesamiento de listas\n",
    "\n",
    "Se te ha dado el siguiente código que realiza operaciones en una lista de números para:\n",
    "\n",
    "1. Filtrar los números pares.\n",
    "2. Duplicar cada número.\n",
    "3. Sumar todos los números.\n",
    "4. Verificar si el resultado es un número primo.\n",
    "\n",
    "El código entregado logra los objetivos, pero puede ser ineficiente. Tu tarea es identificar y mejorar las partes de ese código para mejorar su eficiencia."
   ]
  },
  {
   "cell_type": "code",
   "execution_count": 3,
   "id": "783d03a0",
   "metadata": {},
   "outputs": [
    {
     "name": "stdout",
     "output_type": "stream",
     "text": [
      "Result: 60, ¿Prime? No\n"
     ]
    }
   ],
   "source": [
    "import math\n",
    "\n",
    "def is_prime(n):\n",
    "    if n <= 1:\n",
    "        return False\n",
    "    for i in range(2, int(math.sqrt(n)) + 1):\n",
    "        if n % i == 0:\n",
    "            return False\n",
    "    return True\n",
    "\n",
    "def process_list(list_):\n",
    "    filtered_list = []\n",
    "    for num in list_:\n",
    "        if num % 2 == 0:\n",
    "            filtered_list.append(num)\n",
    "    \n",
    "    duplicate_list = []\n",
    "    for num in filtered_list:\n",
    "        duplicate_list.append(num * 2)\n",
    "        \n",
    "    sum = 0\n",
    "    for num in duplicate_list:\n",
    "        sum += num\n",
    "\n",
    "    prime = is_prime(sum)\n",
    "    \n",
    "    return sum, prime\n",
    "\n",
    "list_ = [1, 2, 3, 4, 5, 6, 7, 8, 9, 10]\n",
    "result, result_prime = process_list(list_)\n",
    "print(f\"Result: {result}, ¿Prime? {'Yes' if result_prime else 'No'}\")"
   ]
  },
  {
   "cell_type": "markdown",
   "id": "128d564e",
   "metadata": {},
   "source": [
    "Puntos a optimizar:\n",
    "\n",
    "1. **Filtrar las números**: El código recorre la lista original para filtrar los números pares. Considera una forma mas eficiente de filtrar la lista.\n",
    "2. **Duplicación**: La lista es atravesada varias veces. ¿Hay alguna manera de hacer esto mas eficientemente?\n",
    "3. **Suma**: Los números en la lista se suman a traves de un bucle. Python trae incluidas unas funciones que pueden optimizar esto.\n",
    "4. **Función `is_prime`**: Aunque ésta función es relativamente eficiente, investiga si hay maneras de hacerla aun más rápida.\n",
    "5. **Modularidad**: Considera dividir el código en funciones más pequeñas, cada una enfocada en una tarea específica."
   ]
  },
  {
   "cell_type": "code",
   "execution_count": 5,
   "id": "f40e35d6",
   "metadata": {},
   "outputs": [
    {
     "name": "stdout",
     "output_type": "stream",
     "text": [
      "Resultado: 60, ¿Primo? No\n"
     ]
    }
   ],
   "source": [
    "# Se importan las librerías necesarias:\n",
    "from sympy import isprime # Se importa la función isprime de la librería sympy para saber si un número dado es primo o no:\n",
    "\n",
    "# # # FUNCTION - EVEN NUMBER # # #\n",
    "# Se filtra la lista de números dada como argumento, devolviendo solo los números pares (cuyo resto es nulo al dividir entre dos):\n",
    "def is_even (numbers): return list(filter(lambda x : x % 2 == 0, numbers));\n",
    "\n",
    "# # #  FUNCTION - DUPLICATE # # #\n",
    "# Se devuelve una lista de los números duplicados. Se utiliza map() para poder iterar sobre todos los números a la vez:\n",
    "def duplicate (numbers): return list(map(lambda x : x * 2, numbers));\n",
    "\n",
    "# # # FUNCTION - SUMMATION # # #\n",
    "# Se devuelve un entero, resultado de la suma de todos los números de la lista dada como argumento:\n",
    "def summation (numbers): return sum(numbers);\n",
    "\n",
    "\n",
    "# Declaración del array de números:\n",
    "list_ = [1, 2, 3, 4, 5, 6, 7, 8, 9, 10];\n",
    "\n",
    "# Se hace una call indentada a todas las funciones anteriores para aplicar todas las operaciones deseadas al array\n",
    "# Se guarda el valor de la suma en una variable para, posteriormente, saber si el resultado es primo o no:\n",
    "sum_list = summation (duplicate (is_even (list_)));\n",
    "\n",
    "# Se aplica la función isprime() de la libería sympy para saber si el resultado de la suma es primo o no: \n",
    "result_prime = isprime(sum_list);\n",
    "\n",
    "# Se imprime el resultado y se dice si es o no primo dependiendo de si la función isprime() ha devuelto True o False:\n",
    "print(f\"Resultado: {sum_list}, ¿Primo? {'Sí' if result_prime else 'No'}\")\n",
    "\n"
   ]
  },
  {
   "attachments": {},
   "cell_type": "markdown",
   "id": "1af70806",
   "metadata": {},
   "source": [
    "Ambos ejercicios  ayudarán a mejorar tu habilidad de optimizar el desempeño del código y te darán un mejor entendimiento de como las diferentes estructuras de datos y técnicas de programación pueden afectar la eficiencia de tu código."
   ]
  }
 ],
 "metadata": {
  "kernelspec": {
   "display_name": "Python 3",
   "language": "python",
   "name": "python3"
  },
  "language_info": {
   "codemirror_mode": {
    "name": "ipython",
    "version": 3
   },
   "file_extension": ".py",
   "mimetype": "text/x-python",
   "name": "python",
   "nbconvert_exporter": "python",
   "pygments_lexer": "ipython3",
   "version": "3.11.4"
  }
 },
 "nbformat": 4,
 "nbformat_minor": 5
}
